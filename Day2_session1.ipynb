{
  "nbformat": 4,
  "nbformat_minor": 0,
  "metadata": {
    "colab": {
      "name": "Day2 session1.ipynb",
      "provenance": [],
      "authorship_tag": "ABX9TyMTWnHbCnAk/i3hv0uCwkTX",
      "include_colab_link": true
    },
    "kernelspec": {
      "name": "python3",
      "display_name": "Python 3"
    }
  },
  "cells": [
    {
      "cell_type": "markdown",
      "metadata": {
        "id": "view-in-github",
        "colab_type": "text"
      },
      "source": [
        "<a href=\"https://colab.research.google.com/github/alvas-education-foundation/brundaPD/blob/master/Day2_session1.ipynb\" target=\"_parent\"><img src=\"https://colab.research.google.com/assets/colab-badge.svg\" alt=\"Open In Colab\"/></a>"
      ]
    },
    {
      "cell_type": "markdown",
      "metadata": {
        "id": "HEbC-zp_nhWo",
        "colab_type": "text"
      },
      "source": [
        "\n",
        "print multiples of 3 upto 200 using a list\n",
        "\n"
      ]
    },
    {
      "cell_type": "code",
      "metadata": {
        "id": "u1qeyJytnkLx",
        "colab_type": "code",
        "colab": {
          "base_uri": "https://localhost:8080/",
          "height": 54
        },
        "outputId": "6f8b108c-d9df-478c-882d-b5ccc8cf6d26"
      },
      "source": [
        "def multiple(m, n): \n",
        "    a = range(n, (m * n)+1, n)   \n",
        "    print(*a)   \n",
        "m = 66\n",
        "n = 3\n",
        "multiple(m, n)"
      ],
      "execution_count": 1,
      "outputs": [
        {
          "output_type": "stream",
          "text": [
            "3 6 9 12 15 18 21 24 27 30 33 36 39 42 45 48 51 54 57 60 63 66 69 72 75 78 81 84 87 90 93 96 99 102 105 108 111 114 117 120 123 126 129 132 135 138 141 144 147 150 153 156 159 162 165 168 171 174 177 180 183 186 189 192 195 198\n"
          ],
          "name": "stdout"
        }
      ]
    },
    {
      "cell_type": "markdown",
      "metadata": {
        "id": "WSVzLOXUoBmK",
        "colab_type": "text"
      },
      "source": [
        " Print the nos only divisable by 5 and 7 between 1000 and 2000 using a list( both inclusive)"
      ]
    },
    {
      "cell_type": "code",
      "metadata": {
        "id": "lno4w6_0oHmu",
        "colab_type": "code",
        "colab": {
          "base_uri": "https://localhost:8080/",
          "height": 34
        },
        "outputId": "c4e2b1c7-d73e-40fe-9fa4-6f0409be6648"
      },
      "source": [
        "nl=[]\n",
        "for x in range(1000, 2000):\n",
        "    if (x%7==0) and (x%5==0):\n",
        "        nl.append(str(x))\n",
        "print (','.join(nl))"
      ],
      "execution_count": 2,
      "outputs": [
        {
          "output_type": "stream",
          "text": [
            "1015,1050,1085,1120,1155,1190,1225,1260,1295,1330,1365,1400,1435,1470,1505,1540,1575,1610,1645,1680,1715,1750,1785,1820,1855,1890,1925,1960,1995\n"
          ],
          "name": "stdout"
        }
      ]
    },
    {
      "cell_type": "markdown",
      "metadata": {
        "id": "yw5ZCM3WotaV",
        "colab_type": "text"
      },
      "source": [
        "Print perfect squares and divisible by 5 between 500 and 1000( (both inclusive) using list"
      ]
    },
    {
      "cell_type": "code",
      "metadata": {
        "id": "V88N0mSkoul-",
        "colab_type": "code",
        "colab": {
          "base_uri": "https://localhost:8080/",
          "height": 119
        },
        "outputId": "8d11f654-93ee-40b4-8c94-f5264a39d151"
      },
      "source": [
        "lower=int(input(\"Enter lower range limit:\"))\n",
        "upper=int(input(\"Enter upper range limit:\"))\n",
        "n=int(input(\"Enter the number to be divided by:\"))\n",
        "for i in range(lower,upper+1):\n",
        "    if(i%n==0):\n",
        "        print(i)"
      ],
      "execution_count": 3,
      "outputs": [
        {
          "output_type": "stream",
          "text": [
            "Enter lower range limit:10\n",
            "Enter upper range limit:20\n",
            "Enter the number to be divided by:5\n",
            "10\n",
            "15\n",
            "20\n"
          ],
          "name": "stdout"
        }
      ]
    },
    {
      "cell_type": "markdown",
      "metadata": {
        "id": "7D_iSeHjpK9M",
        "colab_type": "text"
      },
      "source": [
        "Get a string and store word by word as elements in a tuple and find the largest word in the tuple and print it"
      ]
    },
    {
      "cell_type": "code",
      "metadata": {
        "id": "f50NcOVupLw9",
        "colab_type": "code",
        "colab": {
          "base_uri": "https://localhost:8080/",
          "height": 136
        },
        "outputId": "279f5bc6-1af7-4895-dd7b-979431de729b"
      },
      "source": [
        "a=[]\n",
        "n= int(input(\"Enter the number of elements in list:\"))\n",
        "for x in range(0,n):\n",
        "    element=input(\"Enter element\" + str(x+1) + \":\")\n",
        "    a.append(element)\n",
        "max1=len(a[0])\n",
        "temp=a[0]\n",
        "for i in a:\n",
        "    if(len(i)>max1):\n",
        "       max1=len(i)\n",
        "       temp=i\n",
        "print(\"The word with the longest length is:\")\n",
        "print(temp)"
      ],
      "execution_count": 4,
      "outputs": [
        {
          "output_type": "stream",
          "text": [
            "Enter the number of elements in list:4\n",
            "Enter element1:2\n",
            "Enter element2:4\n",
            "Enter element3:8\n",
            "Enter element4:10\n",
            "The word with the longest length is:\n",
            "10\n"
          ],
          "name": "stdout"
        }
      ]
    }
  ]
}